{
 "cells": [
  {
   "metadata": {},
   "cell_type": "markdown",
   "source": "# Combined YOLOv9 (Ultralytics) train, validate and detect Python implementation",
   "id": "91e0b0db0556695f"
  },
  {
   "metadata": {},
   "cell_type": "markdown",
   "source": "## Environment preparation",
   "id": "157fb8b9fc4a3065"
  },
  {
   "metadata": {},
   "cell_type": "markdown",
   "source": "### Check for Nvidia Cuda GPU",
   "id": "94e2183333c0c180"
  },
  {
   "cell_type": "code",
   "execution_count": null,
   "id": "initial_id",
   "metadata": {
    "collapsed": true
   },
   "outputs": [],
   "source": "!nvidia-smi"
  },
  {
   "metadata": {},
   "cell_type": "markdown",
   "source": "### Install python packages",
   "id": "af23ac291dcdde57"
  },
  {
   "metadata": {},
   "cell_type": "code",
   "outputs": [],
   "execution_count": null,
   "source": "!pip install typeguard ultralytics",
   "id": "943c6533a5929c9e"
  },
  {
   "metadata": {},
   "cell_type": "markdown",
   "source": "### Create folders (option: connect to Google drive for Google Colab)",
   "id": "148767a407c84aeb"
  },
  {
   "metadata": {},
   "cell_type": "code",
   "outputs": [],
   "execution_count": null,
   "source": "!mkdir detect_results train_results",
   "id": "aa3815dd8b8f348d"
  },
  {
   "metadata": {},
   "cell_type": "code",
   "outputs": [],
   "execution_count": null,
   "source": [
    "# Optional\n",
    "from google.colab import drive\n",
    "drive.mount(\"/content/drive/\")"
   ],
   "id": "e66610545608ce61"
  },
  {
   "metadata": {},
   "cell_type": "markdown",
   "source": "## Train",
   "id": "53e7c4a6c4490029"
  },
  {
   "metadata": {},
   "cell_type": "markdown",
   "source": "## Validate",
   "id": "633b3832111e6221"
  },
  {
   "metadata": {},
   "cell_type": "markdown",
   "source": "## Detect",
   "id": "b28f0647bd723ecf"
  },
  {
   "metadata": {},
   "cell_type": "markdown",
   "source": [
    "#### Credits\n",
    "Agnieszka Piórkowska, Miłosz Gajewski \\\n",
    "Politechnika Poznańska 2024"
   ],
   "id": "2bb4f65e29a544b6"
  }
 ],
 "metadata": {
  "kernelspec": {
   "display_name": "Python 3",
   "language": "python",
   "name": "python3"
  },
  "language_info": {
   "codemirror_mode": {
    "name": "ipython",
    "version": 2
   },
   "file_extension": ".py",
   "mimetype": "text/x-python",
   "name": "python",
   "nbconvert_exporter": "python",
   "pygments_lexer": "ipython2",
   "version": "2.7.6"
  }
 },
 "nbformat": 4,
 "nbformat_minor": 5
}
